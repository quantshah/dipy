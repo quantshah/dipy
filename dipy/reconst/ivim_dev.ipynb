{
 "cells": [
  {
   "cell_type": "code",
   "execution_count": 27,
   "metadata": {
    "collapsed": false
   },
   "outputs": [],
   "source": [
    "# If using dev, cd to the reconst file\n",
    "# %cd dipy/dipy/reconst/\n",
    "import numpy as np\n",
    "from dipy.sims.voxel import multi_tensor\n",
    "from dipy.data import get_data\n",
    "from dipy.core.gradients import gradient_table\n",
    "from dipy.io.gradients import read_bvals_bvecs\n",
    "import matplotlib.pyplot as plt\n",
    "import scipy.optimize as op\n",
    "import ivim\n",
    "import nibabel as nib\n",
    "from dipy.core.sphere import disperse_charges, Sphere, HemiSphere\n",
    "\n",
    "% matplotlib inline"
   ]
  },
  {
   "cell_type": "code",
   "execution_count": 32,
   "metadata": {
    "collapsed": false
   },
   "outputs": [],
   "source": [
    "def get_bvecs(N):\n",
    "    \"\"\"Generate bvectors for N bvalues\"\"\"\n",
    "    theta = np.pi * np.random.rand(N)\n",
    "    phi = 2 * np.pi * np.random.rand(N)\n",
    "    hsph_initial = HemiSphere(theta=theta, phi=phi)\n",
    "    hsph_updated, potential = disperse_charges(hsph_initial, 5000)\n",
    "    vertices = hsph_updated.vertices\n",
    "    return vertices\n",
    "\n",
    "def simulate(f, D_star, D, snr=None):\n",
    "    \"\"\"This is a function to simulate and test the ivim model\n",
    "    Take parameter f, D_star, D and plots the predicted and actual signal\"\"\"\n",
    "    \n",
    "    mevals=np.array(([D_star, D_star, D_star],[D, D, D])) \n",
    "    # This gives an isotropic signal\n",
    "    \n",
    "    bvals = np.array([0., 10., 20., 30., 40., 60., 80., 100.,\n",
    "                      120., 140., 160., 180., 200., 220., 240.,\n",
    "                      260., 280., 300., 350., 400., 500.,\n",
    "                     600., 700., 800., 900, 1000.])\n",
    "    \n",
    "    N = len(bvals)\n",
    "    bvecs = get_bvecs(N)\n",
    "    gtab = gradient_table(bvals, bvecs.T)\n",
    "                      \n",
    "    signal = multi_tensor(gtab, mevals, snr=snr, fractions=[f*100, 100*(1-f)])\n",
    "    data = signal[0]\n",
    "    \n",
    "    ivim_model = ivim.IvimModel(gtab)\n",
    "    ivim_fit = ivim_model.fit(data)\n",
    "    \n",
    "    S0_est, f_est, D_star_est, D_est = ivim_fit.model_params\n",
    "    print (ivim_fit.model_params)\n",
    "    estimated_signal = ivim.ivim_function(bvals, S0_est, f_est, D_star_est, D_est)\n",
    "    \n",
    "    # Plot estimated signal and actual signal\n",
    "    plt.scatter(bvals, estimated_signal, color = \"red\", label=\"Predicted signal\")\n",
    "    plt.scatter(bvals, data, color = \"blue\", label=\"actual signal\")\n",
    "    plt.xlabel(\"bvalues\")\n",
    "    plt.ylabel(\"Signals\")\n",
    "    plt.text(\"S, f, D_star, D\", S0_est, f_est, D_star_est, D_est )\n",
    "    plt.show()\n",
    "    return [S0_est, f_est, D_star_est, D_est]"
   ]
  },
  {
   "cell_type": "code",
   "execution_count": 33,
   "metadata": {
    "collapsed": false
   },
   "outputs": [
    {
     "name": "stdout",
     "output_type": "stream",
     "text": [
      "[  1.00000000e+02   9.95518830e-01   8.22515530e-03   3.64239298e+02]\n"
     ]
    },
    {
     "name": "stderr",
     "output_type": "stream",
     "text": [
      "/home/shahnawaz/dev/gsoc16/dipy/dipy/reconst/ivim.py:15: RuntimeWarning: overflow encountered in exp\n",
      "  S = S0 * (f * np.exp(-bvals * D_star) + (1 - f) * np.exp(-bvals * D))\n",
      "/usr/local/lib/python3.4/dist-packages/scipy/optimize/minpack.py:601: OptimizeWarning: Covariance of the parameters could not be estimated\n",
      "  category=OptimizeWarning)\n"
     ]
    },
    {
     "ename": "ValueError",
     "evalue": "could not convert string to float: 'S, f, D_star, D'",
     "output_type": "error",
     "traceback": [
      "\u001b[1;31m---------------------------------------------------------------------------\u001b[0m",
      "\u001b[1;31mValueError\u001b[0m                                Traceback (most recent call last)",
      "\u001b[1;32m<ipython-input-33-d8bb999dca11>\u001b[0m in \u001b[0;36m<module>\u001b[1;34m()\u001b[0m\n\u001b[0;32m      1\u001b[0m \u001b[0mf\u001b[0m\u001b[1;33m,\u001b[0m \u001b[0mD_star\u001b[0m\u001b[1;33m,\u001b[0m \u001b[0mD\u001b[0m \u001b[1;33m=\u001b[0m \u001b[1;36m0.06\u001b[0m\u001b[1;33m,\u001b[0m \u001b[1;36m0.015\u001b[0m\u001b[1;33m,\u001b[0m \u001b[1;36m0.008\u001b[0m\u001b[1;33m\u001b[0m\u001b[0m\n\u001b[1;32m----> 2\u001b[1;33m \u001b[0mprint\u001b[0m \u001b[1;33m(\u001b[0m\u001b[0msimulate\u001b[0m\u001b[1;33m(\u001b[0m\u001b[0mf\u001b[0m\u001b[1;33m,\u001b[0m\u001b[0mD_star\u001b[0m\u001b[1;33m,\u001b[0m\u001b[0mD\u001b[0m\u001b[1;33m)\u001b[0m\u001b[1;33m)\u001b[0m\u001b[1;33m\u001b[0m\u001b[0m\n\u001b[0m\u001b[0;32m      3\u001b[0m \u001b[1;33m\u001b[0m\u001b[0m\n\u001b[0;32m      4\u001b[0m \u001b[1;31m# Take a different fraction\u001b[0m\u001b[1;33m\u001b[0m\u001b[1;33m\u001b[0m\u001b[0m\n\u001b[0;32m      5\u001b[0m \u001b[0mf\u001b[0m \u001b[1;33m=\u001b[0m \u001b[1;36m0.05\u001b[0m\u001b[1;33m\u001b[0m\u001b[0m\n",
      "\u001b[1;32m<ipython-input-32-d4c8962c5445>\u001b[0m in \u001b[0;36msimulate\u001b[1;34m(f, D_star, D, snr)\u001b[0m\n\u001b[0;32m     39\u001b[0m     \u001b[0mplt\u001b[0m\u001b[1;33m.\u001b[0m\u001b[0mxlabel\u001b[0m\u001b[1;33m(\u001b[0m\u001b[1;34m\"bvalues\"\u001b[0m\u001b[1;33m)\u001b[0m\u001b[1;33m\u001b[0m\u001b[0m\n\u001b[0;32m     40\u001b[0m     \u001b[0mplt\u001b[0m\u001b[1;33m.\u001b[0m\u001b[0mylabel\u001b[0m\u001b[1;33m(\u001b[0m\u001b[1;34m\"Signals\"\u001b[0m\u001b[1;33m)\u001b[0m\u001b[1;33m\u001b[0m\u001b[0m\n\u001b[1;32m---> 41\u001b[1;33m     \u001b[0mplt\u001b[0m\u001b[1;33m.\u001b[0m\u001b[0mtext\u001b[0m\u001b[1;33m(\u001b[0m\u001b[1;34m\"S, f, D_star, D\"\u001b[0m\u001b[1;33m,\u001b[0m \u001b[0mS0_est\u001b[0m\u001b[1;33m,\u001b[0m \u001b[0mf_est\u001b[0m\u001b[1;33m,\u001b[0m \u001b[0mD_star_est\u001b[0m\u001b[1;33m,\u001b[0m \u001b[0mD_est\u001b[0m \u001b[1;33m)\u001b[0m\u001b[1;33m\u001b[0m\u001b[0m\n\u001b[0m\u001b[0;32m     42\u001b[0m     \u001b[0mplt\u001b[0m\u001b[1;33m.\u001b[0m\u001b[0mshow\u001b[0m\u001b[1;33m(\u001b[0m\u001b[1;33m)\u001b[0m\u001b[1;33m\u001b[0m\u001b[0m\n\u001b[0;32m     43\u001b[0m     \u001b[1;32mreturn\u001b[0m \u001b[1;33m[\u001b[0m\u001b[0mS0_est\u001b[0m\u001b[1;33m,\u001b[0m \u001b[0mf_est\u001b[0m\u001b[1;33m,\u001b[0m \u001b[0mD_star_est\u001b[0m\u001b[1;33m,\u001b[0m \u001b[0mD_est\u001b[0m\u001b[1;33m]\u001b[0m\u001b[1;33m\u001b[0m\u001b[0m\n",
      "\u001b[1;32m/usr/local/lib/python3.4/dist-packages/matplotlib/pyplot.py\u001b[0m in \u001b[0;36mtext\u001b[1;34m(x, y, s, fontdict, withdash, **kwargs)\u001b[0m\n\u001b[0;32m   3565\u001b[0m \u001b[1;33m@\u001b[0m\u001b[0mdocstring\u001b[0m\u001b[1;33m.\u001b[0m\u001b[0mcopy_dedent\u001b[0m\u001b[1;33m(\u001b[0m\u001b[0mAxes\u001b[0m\u001b[1;33m.\u001b[0m\u001b[0mtext\u001b[0m\u001b[1;33m)\u001b[0m\u001b[1;33m\u001b[0m\u001b[0m\n\u001b[0;32m   3566\u001b[0m \u001b[1;32mdef\u001b[0m \u001b[0mtext\u001b[0m\u001b[1;33m(\u001b[0m\u001b[0mx\u001b[0m\u001b[1;33m,\u001b[0m \u001b[0my\u001b[0m\u001b[1;33m,\u001b[0m \u001b[0ms\u001b[0m\u001b[1;33m,\u001b[0m \u001b[0mfontdict\u001b[0m\u001b[1;33m=\u001b[0m\u001b[1;32mNone\u001b[0m\u001b[1;33m,\u001b[0m \u001b[0mwithdash\u001b[0m\u001b[1;33m=\u001b[0m\u001b[1;32mFalse\u001b[0m\u001b[1;33m,\u001b[0m \u001b[1;33m**\u001b[0m\u001b[0mkwargs\u001b[0m\u001b[1;33m)\u001b[0m\u001b[1;33m:\u001b[0m\u001b[1;33m\u001b[0m\u001b[0m\n\u001b[1;32m-> 3567\u001b[1;33m     \u001b[0mret\u001b[0m \u001b[1;33m=\u001b[0m \u001b[0mgca\u001b[0m\u001b[1;33m(\u001b[0m\u001b[1;33m)\u001b[0m\u001b[1;33m.\u001b[0m\u001b[0mtext\u001b[0m\u001b[1;33m(\u001b[0m\u001b[0mx\u001b[0m\u001b[1;33m,\u001b[0m \u001b[0my\u001b[0m\u001b[1;33m,\u001b[0m \u001b[0ms\u001b[0m\u001b[1;33m,\u001b[0m \u001b[0mfontdict\u001b[0m\u001b[1;33m=\u001b[0m\u001b[0mfontdict\u001b[0m\u001b[1;33m,\u001b[0m \u001b[0mwithdash\u001b[0m\u001b[1;33m=\u001b[0m\u001b[0mwithdash\u001b[0m\u001b[1;33m,\u001b[0m \u001b[1;33m**\u001b[0m\u001b[0mkwargs\u001b[0m\u001b[1;33m)\u001b[0m\u001b[1;33m\u001b[0m\u001b[0m\n\u001b[0m\u001b[0;32m   3568\u001b[0m     \u001b[1;32mreturn\u001b[0m \u001b[0mret\u001b[0m\u001b[1;33m\u001b[0m\u001b[0m\n\u001b[0;32m   3569\u001b[0m \u001b[1;33m\u001b[0m\u001b[0m\n",
      "\u001b[1;32m/usr/local/lib/python3.4/dist-packages/matplotlib/axes/_axes.py\u001b[0m in \u001b[0;36mtext\u001b[1;34m(self, x, y, s, fontdict, withdash, **kwargs)\u001b[0m\n\u001b[0;32m    606\u001b[0m         \u001b[1;32mif\u001b[0m \u001b[0mwithdash\u001b[0m\u001b[1;33m:\u001b[0m\u001b[1;33m\u001b[0m\u001b[0m\n\u001b[0;32m    607\u001b[0m             t = mtext.TextWithDash(\n\u001b[1;32m--> 608\u001b[1;33m                 x=x, y=y, text=s)\n\u001b[0m\u001b[0;32m    609\u001b[0m         \u001b[1;32melse\u001b[0m\u001b[1;33m:\u001b[0m\u001b[1;33m\u001b[0m\u001b[0m\n\u001b[0;32m    610\u001b[0m             t = mtext.Text(\n",
      "\u001b[1;32m/usr/local/lib/python3.4/dist-packages/matplotlib/text.py\u001b[0m in \u001b[0;36m__init__\u001b[1;34m(self, x, y, text, color, verticalalignment, horizontalalignment, multialignment, fontproperties, rotation, linespacing, dashlength, dashdirection, dashrotation, dashpad, dashpush)\u001b[0m\n\u001b[0;32m   1365\u001b[0m                                linestyle='-')\n\u001b[0;32m   1366\u001b[0m \u001b[1;33m\u001b[0m\u001b[0m\n\u001b[1;32m-> 1367\u001b[1;33m         \u001b[0mself\u001b[0m\u001b[1;33m.\u001b[0m\u001b[0m_dashx\u001b[0m \u001b[1;33m=\u001b[0m \u001b[0mfloat\u001b[0m\u001b[1;33m(\u001b[0m\u001b[0mx\u001b[0m\u001b[1;33m)\u001b[0m\u001b[1;33m\u001b[0m\u001b[0m\n\u001b[0m\u001b[0;32m   1368\u001b[0m         \u001b[0mself\u001b[0m\u001b[1;33m.\u001b[0m\u001b[0m_dashy\u001b[0m \u001b[1;33m=\u001b[0m \u001b[0mfloat\u001b[0m\u001b[1;33m(\u001b[0m\u001b[0my\u001b[0m\u001b[1;33m)\u001b[0m\u001b[1;33m\u001b[0m\u001b[0m\n\u001b[0;32m   1369\u001b[0m         \u001b[0mself\u001b[0m\u001b[1;33m.\u001b[0m\u001b[0m_dashlength\u001b[0m \u001b[1;33m=\u001b[0m \u001b[0mdashlength\u001b[0m\u001b[1;33m\u001b[0m\u001b[0m\n",
      "\u001b[1;31mValueError\u001b[0m: could not convert string to float: 'S, f, D_star, D'"
     ]
    },
    {
     "data": {
      "image/png": "[encoded data removed]",
      "text/plain": [
       "<matplotlib.figure.Figure at 0xab6ee2ac>"
      ]
     },
     "metadata": {},
     "output_type": "display_data"
    }
   ],
   "source": [
    "f, D_star, D = 0.06, 0.015, 0.008\n",
    "print (simulate(f,D_star,D))\n",
    "\n",
    "# Take a different fraction\n",
    "f = 0.05\n",
    "simulate(f,D_star,D)"
   ]
  },
  {
   "cell_type": "code",
   "execution_count": null,
   "metadata": {
    "collapsed": false
   },
   "outputs": [],
   "source": [
    "f, D_star, D = 0.07, 0.015, 0.0008\n",
    "# Plot with various snr\n",
    "simulate(f,D_star, D, snr=10)\n",
    "simulate(f,D_star, D, snr=15)\n",
    "simulate(f,D_star, D, snr=20)\n",
    "simulate(f,D_star, D, snr=30)"
   ]
  },
  {
   "cell_type": "code",
   "execution_count": 5,
   "metadata": {
    "collapsed": true
   },
   "outputs": [],
   "source": [
    "fimg, fbvals, fbvecs = get_data('small_101D')\n",
    "bvals, bvecs = read_bvals_bvecs(fbvals, fbvecs)\n",
    "gtab = gradient_table(bvals, bvecs)"
   ]
  },
  {
   "cell_type": "code",
   "execution_count": 6,
   "metadata": {
    "collapsed": false
   },
   "outputs": [
    {
     "ename": "NameError",
     "evalue": "name 'data' is not defined",
     "output_type": "error",
     "traceback": [
      "\u001b[1;31m---------------------------------------------------------------------------\u001b[0m",
      "\u001b[1;31mNameError\u001b[0m                                 Traceback (most recent call last)",
      "\u001b[1;32m<ipython-input-6-38b47cf7bf39>\u001b[0m in \u001b[0;36m<module>\u001b[1;34m()\u001b[0m\n\u001b[0;32m      1\u001b[0m \u001b[0mivim_model\u001b[0m \u001b[1;33m=\u001b[0m \u001b[0mivim\u001b[0m\u001b[1;33m.\u001b[0m\u001b[0mIvimModel\u001b[0m\u001b[1;33m(\u001b[0m\u001b[0mgtab\u001b[0m\u001b[1;33m)\u001b[0m\u001b[1;33m\u001b[0m\u001b[0m\n\u001b[1;32m----> 2\u001b[1;33m \u001b[0mivim_fit\u001b[0m \u001b[1;33m=\u001b[0m \u001b[0mivim_model\u001b[0m\u001b[1;33m.\u001b[0m\u001b[0mfit\u001b[0m\u001b[1;33m(\u001b[0m\u001b[0mdata\u001b[0m\u001b[1;33m)\u001b[0m\u001b[1;33m\u001b[0m\u001b[0m\n\u001b[0m",
      "\u001b[1;31mNameError\u001b[0m: name 'data' is not defined"
     ]
    }
   ],
   "source": [
    "ivim_model = ivim.IvimModel(gtab)\n",
    "ivim_fit = ivim_model.fit(data)"
   ]
  },
  {
   "cell_type": "code",
   "execution_count": null,
   "metadata": {
    "collapsed": false
   },
   "outputs": [],
   "source": [
    "signal = data[3][5][4]\n",
    "plt.scatter(bvals, signal)\n",
    "\n",
    "params = ivim_fit.model_params\n",
    "S0, f, D_star, D = params[3][5][4]\n",
    "pred_signal = ivim.ivim_function(bvals, S0, f, D_star, D)\n",
    "\n",
    "plt.scatter(bvals, pred_signal, color=\"red\")\n",
    "plt.show()"
   ]
  }
 ],
 "metadata": {
  "kernelspec": {
   "display_name": "Python 3",
   "language": "python",
   "name": "python3"
  },
  "language_info": {
   "codemirror_mode": {
    "name": "ipython",
    "version": 3
   },
   "file_extension": ".py",
   "mimetype": "text/x-python",
   "name": "python",
   "nbconvert_exporter": "python",
   "pygments_lexer": "ipython3",
   "version": "3.4.3"
  }
 },
 "nbformat": 4,
 "nbformat_minor": 0
}
